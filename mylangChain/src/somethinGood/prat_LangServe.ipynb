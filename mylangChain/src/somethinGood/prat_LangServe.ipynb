{
 "cells": [
  {
   "cell_type": "markdown",
   "id": "61bb528f",
   "metadata": {},
   "source": [
    "# LangServe 학습 노트"
   ]
  },
  {
   "cell_type": "markdown",
   "id": "ec860ab7",
   "metadata": {},
   "source": [
    "1. LangServe란?\n",
    "- LangChain 팀이 만든 라이브러리\n",
    "- 목적: LangChain 체인(Chain)이나 Runnable 객체를 REST API로 쉽게 배포\n",
    "- 내부적으로 FastAPI 와 Pydantic 을 활용\n",
    "- 장점:\n",
    "    - 모델/체인을 서버로 띄워서 외부 애플리케이션에서 호출 가능\n",
    "    - Python뿐 아니라 JavaScript 클라이언트도 제공\n",
    "    - LangSmith와 통합되어 모니터링/디버깅 가능\n",
    "\n",
    "\n",
    "설치\n",
    "- poetry add \"langserve[all]\"\n",
    "\n",
    "가상환경에서 실행\n",
    "- poetry run uvicorn main:app --reload --port 8000\n"
   ]
  },
  {
   "cell_type": "code",
   "execution_count": null,
   "id": "b4e70cf7",
   "metadata": {},
   "outputs": [
    {
     "name": "stdout",
     "output_type": "stream",
     "text": [
      "gsk_yy\n"
     ]
    },
    {
     "ename": "RuntimeError",
     "evalue": "asyncio.run() cannot be called from a running event loop",
     "output_type": "error",
     "traceback": [
      "\u001b[31m---------------------------------------------------------------------------\u001b[39m",
      "\u001b[31mRuntimeError\u001b[39m                              Traceback (most recent call last)",
      "\u001b[36mCell\u001b[39m\u001b[36m \u001b[39m\u001b[32mIn[3]\u001b[39m\u001b[32m, line 85\u001b[39m\n\u001b[32m     83\u001b[39m \u001b[38;5;66;03m# FastAPI 서버 실행\u001b[39;00m\n\u001b[32m     84\u001b[39m \u001b[38;5;28;01mif\u001b[39;00m \u001b[34m__name__\u001b[39m == \u001b[33m\"\u001b[39m\u001b[33m__main__\u001b[39m\u001b[33m\"\u001b[39m:\n\u001b[32m---> \u001b[39m\u001b[32m85\u001b[39m     \u001b[43muvicorn\u001b[49m\u001b[43m.\u001b[49m\u001b[43mrun\u001b[49m\u001b[43m(\u001b[49m\u001b[43mapp\u001b[49m\u001b[43m,\u001b[49m\u001b[43m \u001b[49m\u001b[43mhost\u001b[49m\u001b[43m=\u001b[49m\u001b[33;43m\"\u001b[39;49m\u001b[33;43m0.0.0.0\u001b[39;49m\u001b[33;43m\"\u001b[39;49m\u001b[43m,\u001b[49m\u001b[43m \u001b[49m\u001b[43mport\u001b[49m\u001b[43m=\u001b[49m\u001b[32;43m8000\u001b[39;49m\u001b[43m)\u001b[49m\n",
      "\u001b[36mFile \u001b[39m\u001b[32mc:\\Users\\HOME\\AppData\\Local\\pypoetry\\Cache\\virtualenvs\\mylangchain-app-JHcERFOP-py3.13\\Lib\\site-packages\\uvicorn\\main.py:593\u001b[39m, in \u001b[36mrun\u001b[39m\u001b[34m(app, host, port, uds, fd, loop, http, ws, ws_max_size, ws_max_queue, ws_ping_interval, ws_ping_timeout, ws_per_message_deflate, lifespan, interface, reload, reload_dirs, reload_includes, reload_excludes, reload_delay, workers, env_file, log_config, log_level, access_log, proxy_headers, server_header, date_header, forwarded_allow_ips, root_path, limit_concurrency, backlog, limit_max_requests, timeout_keep_alive, timeout_graceful_shutdown, timeout_worker_healthcheck, ssl_keyfile, ssl_certfile, ssl_keyfile_password, ssl_version, ssl_cert_reqs, ssl_ca_certs, ssl_ciphers, headers, use_colors, app_dir, factory, h11_max_incomplete_event_size)\u001b[39m\n\u001b[32m    591\u001b[39m         Multiprocess(config, target=server.run, sockets=[sock]).run()\n\u001b[32m    592\u001b[39m     \u001b[38;5;28;01melse\u001b[39;00m:\n\u001b[32m--> \u001b[39m\u001b[32m593\u001b[39m         \u001b[43mserver\u001b[49m\u001b[43m.\u001b[49m\u001b[43mrun\u001b[49m\u001b[43m(\u001b[49m\u001b[43m)\u001b[49m\n\u001b[32m    594\u001b[39m \u001b[38;5;28;01mexcept\u001b[39;00m \u001b[38;5;167;01mKeyboardInterrupt\u001b[39;00m:\n\u001b[32m    595\u001b[39m     \u001b[38;5;28;01mpass\u001b[39;00m  \u001b[38;5;66;03m# pragma: full coverage\u001b[39;00m\n",
      "\u001b[36mFile \u001b[39m\u001b[32mc:\\Users\\HOME\\AppData\\Local\\pypoetry\\Cache\\virtualenvs\\mylangchain-app-JHcERFOP-py3.13\\Lib\\site-packages\\uvicorn\\server.py:67\u001b[39m, in \u001b[36mServer.run\u001b[39m\u001b[34m(self, sockets)\u001b[39m\n\u001b[32m     66\u001b[39m \u001b[38;5;28;01mdef\u001b[39;00m\u001b[38;5;250m \u001b[39m\u001b[34mrun\u001b[39m(\u001b[38;5;28mself\u001b[39m, sockets: \u001b[38;5;28mlist\u001b[39m[socket.socket] | \u001b[38;5;28;01mNone\u001b[39;00m = \u001b[38;5;28;01mNone\u001b[39;00m) -> \u001b[38;5;28;01mNone\u001b[39;00m:\n\u001b[32m---> \u001b[39m\u001b[32m67\u001b[39m     \u001b[38;5;28;01mreturn\u001b[39;00m \u001b[43masyncio_run\u001b[49m\u001b[43m(\u001b[49m\u001b[38;5;28;43mself\u001b[39;49m\u001b[43m.\u001b[49m\u001b[43mserve\u001b[49m\u001b[43m(\u001b[49m\u001b[43msockets\u001b[49m\u001b[43m=\u001b[49m\u001b[43msockets\u001b[49m\u001b[43m)\u001b[49m\u001b[43m,\u001b[49m\u001b[43m \u001b[49m\u001b[43mloop_factory\u001b[49m\u001b[43m=\u001b[49m\u001b[38;5;28;43mself\u001b[39;49m\u001b[43m.\u001b[49m\u001b[43mconfig\u001b[49m\u001b[43m.\u001b[49m\u001b[43mget_loop_factory\u001b[49m\u001b[43m(\u001b[49m\u001b[43m)\u001b[49m\u001b[43m)\u001b[49m\n",
      "\u001b[36mFile \u001b[39m\u001b[32mC:\\Python313\\Lib\\asyncio\\runners.py:191\u001b[39m, in \u001b[36mrun\u001b[39m\u001b[34m(main, debug, loop_factory)\u001b[39m\n\u001b[32m    161\u001b[39m \u001b[38;5;250m\u001b[39m\u001b[33;03m\"\"\"Execute the coroutine and return the result.\u001b[39;00m\n\u001b[32m    162\u001b[39m \n\u001b[32m    163\u001b[39m \u001b[33;03mThis function runs the passed coroutine, taking care of\u001b[39;00m\n\u001b[32m   (...)\u001b[39m\u001b[32m    187\u001b[39m \u001b[33;03m    asyncio.run(main())\u001b[39;00m\n\u001b[32m    188\u001b[39m \u001b[33;03m\"\"\"\u001b[39;00m\n\u001b[32m    189\u001b[39m \u001b[38;5;28;01mif\u001b[39;00m events._get_running_loop() \u001b[38;5;129;01mis\u001b[39;00m \u001b[38;5;129;01mnot\u001b[39;00m \u001b[38;5;28;01mNone\u001b[39;00m:\n\u001b[32m    190\u001b[39m     \u001b[38;5;66;03m# fail fast with short traceback\u001b[39;00m\n\u001b[32m--> \u001b[39m\u001b[32m191\u001b[39m     \u001b[38;5;28;01mraise\u001b[39;00m \u001b[38;5;167;01mRuntimeError\u001b[39;00m(\n\u001b[32m    192\u001b[39m         \u001b[33m\"\u001b[39m\u001b[33masyncio.run() cannot be called from a running event loop\u001b[39m\u001b[33m\"\u001b[39m)\n\u001b[32m    194\u001b[39m \u001b[38;5;28;01mwith\u001b[39;00m Runner(debug=debug, loop_factory=loop_factory) \u001b[38;5;28;01mas\u001b[39;00m runner:\n\u001b[32m    195\u001b[39m     \u001b[38;5;28;01mreturn\u001b[39;00m runner.run(main)\n",
      "\u001b[31mRuntimeError\u001b[39m: asyncio.run() cannot be called from a running event loop"
     ]
    }
   ],
   "source": [
    "from fastapi import FastAPI\n",
    "from langserve import add_routes\n",
    "from langchain_openai import ChatOpenAI\n",
    "from langchain.prompts import PromptTemplate\n",
    "from langchain_core.runnables import RunnableLambda\n",
    "from dotenv import load_dotenv\n",
    "import os\n",
    "import uvicorn\n",
    "from pydantic import BaseModel\n",
    "from typing import Dict, Any\n",
    "\n",
    "# .env 파일 로드\n",
    "#load_dotenv(dotenv_path='../.env')\n",
    "load_dotenv()\n",
    "\n",
    "# 환경 변수에서 API 키 가져오기\n",
    "api_key = os.getenv(\"OPENAI_API_KEY\")\n",
    "print(api_key[:6])\n",
    "\n",
    "# 입력 스키마 정의\n",
    "class QuestionInput(BaseModel):\n",
    "    question: str\n",
    "\n",
    "# FastAPI 애플리케이션 생성\n",
    "# FastAPI 앱 객체 생성 → LangServe가 여기에 엔드포인트를 붙임\n",
    "app = FastAPI(title=\"LangServe API with .env\")\n",
    "\n",
    "# LLM 모델 생성\n",
    "llm = ChatOpenAI(\n",
    "    api_key=api_key,\n",
    "    base_url=\"https://api.groq.com/openai/v1\",\n",
    "    model=\"meta-llama/llama-4-scout-17b-16e-instruct\",\n",
    "    temperature=0\n",
    ")\n",
    "\n",
    "# 프롬프트 템플릿 설정\n",
    "# - 입력 변수 {question} 을 받아 답변을 생성하는 템플릿\n",
    "prompt = PromptTemplate.from_template(\"질문: {question}\\n답변:\")\n",
    "\n",
    "# 체인 생성\n",
    "# - prompt → llm 으로 연결된 Runnable 체인\n",
    "chain = prompt | llm\n",
    "\n",
    "# 방법 1: input_type을 딕셔너리로 설정\n",
    "add_routes(\n",
    "    app, \n",
    "    chain, \n",
    "    path=\"/chat\",\n",
    "    input_type=Dict[str, Any],  # 딕셔너리 타입으로 변경\n",
    "    config_keys=[\"configurable\"]\n",
    ")\n",
    "\n",
    "# 방법 2: 별도 엔드포인트로 문자열 입력 처리\n",
    "def process_string_input(input_str: str) -> Dict[str, str]:\n",
    "    return {\"question\": input_str}\n",
    "\n",
    "string_chain = RunnableLambda(process_string_input) | chain\n",
    "\n",
    "add_routes(\n",
    "    app,\n",
    "    string_chain,\n",
    "    path=\"/chat_simple\",\n",
    "    input_type=str,  # 문자열 입력\n",
    "    config_keys=[\"configurable\"]\n",
    ")\n",
    "\n",
    "# 방법 3: Pydantic 모델 사용\n",
    "def process_pydantic_input(input_data: QuestionInput) -> Dict[str, str]:\n",
    "    return {\"question\": input_data.question}\n",
    "\n",
    "pydantic_chain = RunnableLambda(process_pydantic_input) | chain\n",
    "\n",
    "add_routes(\n",
    "    app,\n",
    "    pydantic_chain,\n",
    "    path=\"/chat_pydantic\",\n",
    "    input_type=QuestionInput,  # Pydantic 모델 사용\n",
    "    config_keys=[\"configurable\"]\n",
    ")\n",
    "\n",
    "# 헬스체크 엔드포인트\n",
    "@app.get(\"/health\")\n",
    "async def health_check():\n",
    "    return {\"status\": \"healthy\"}\n",
    "\n",
    "# FastAPI 서버 실행\n",
    "if __name__ == \"__main__\":\n",
    "    uvicorn.run(app, host=\"0.0.0.0\", port=8000)"
   ]
  },
  {
   "cell_type": "markdown",
   "id": "d9cc3c66",
   "metadata": {},
   "source": [
    "📝 RunnableLambda 정리\n",
    "1. 개념\n",
    "- LangChain의 LCEL (LangChain Expression Language) 에서 모든 구성 요소는 Runnable 인터페이스를 따릅니다.\n",
    "- RunnableLambda 는 일반 파이썬 함수(callable) 를 Runnable 로 감싸서, 다른 체인 요소들과 동일하게 연결(|)할 수 있게 해줍니다.\n",
    "\n",
    "2. 특징\n",
    "- 임의의 함수 → Runnable 변환\n",
    "    → 데이터 전처리, 입력 변환, 후처리, 외부 API 호출 등 자유롭게 삽입 가능\n",
    "- 동기/비동기 모두 지원\n",
    "    → 함수가 async여도 wrapping 가능\n",
    "- 체인 조합 가능\n",
    "    → 프롬프트, 모델, 파서와 동일한 방식으로 파이프라인에 연결\n",
    "\n",
    "3.주의사항\n",
    "- RunnableLambda 로 감싼 함수는 입력 인자 1개만 받을 수 있음\n",
    "    → 여러 인자가 필요하다면 Dict로 묶어서 전달해야 함.\n",
    "- LangChain의 실행 추적(Tracing)과도 통합되어 디버깅이 쉬움.\n"
   ]
  }
 ],
 "metadata": {
  "kernelspec": {
   "display_name": "mylangchain-app-JHcERFOP-py3.13",
   "language": "python",
   "name": "python3"
  },
  "language_info": {
   "codemirror_mode": {
    "name": "ipython",
    "version": 3
   },
   "file_extension": ".py",
   "mimetype": "text/x-python",
   "name": "python",
   "nbconvert_exporter": "python",
   "pygments_lexer": "ipython3",
   "version": "3.13.5"
  }
 },
 "nbformat": 4,
 "nbformat_minor": 5
}
