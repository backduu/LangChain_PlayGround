{
 "cells": [
  {
   "cell_type": "markdown",
   "id": "c0e2ec43",
   "metadata": {},
   "source": [
    "### LangChain ChatOpenAI + PydanticOutputParser \n",
    "\n",
    "#poetry add pydantic\n"
   ]
  },
  {
   "cell_type": "code",
   "execution_count": 3,
   "id": "2fb953e3",
   "metadata": {},
   "outputs": [
    {
     "name": "stdout",
     "output_type": "stream",
     "text": [
      "gsk_yyC\n"
     ]
    }
   ],
   "source": [
    "from dotenv import load_dotenv\n",
    "import os\n",
    "# .env 파일을 불러와서 환경 변수로 설정\n",
    "load_dotenv(dotenv_path='.env')\n",
    "\n",
    "OPENAI_API_KEY = os.getenv(\"OPENAI_API_KEY\")\n",
    "print(OPENAI_API_KEY[:7])"
   ]
  },
  {
   "cell_type": "code",
   "execution_count": null,
   "id": "3211f167",
   "metadata": {},
   "outputs": [
    {
     "name": "stdout",
     "output_type": "stream",
     "text": [
      "<class '__main__.MovieRecommendation'>\n",
      "MovieRecommendation(movie_title='Scream (1996)', reason='1990년대 특유의 복고적이면서도 세련된 스타일을 유지한 채, 기발한 메타적 요소로 공포 장르의 전형을 재해석한 클래식', genre=['공포', '스릴러', '메타호러'], estimated_rating=8.5)\n"
     ]
    }
   ],
   "source": [
    "from langchain_openai import ChatOpenAI\n",
    "from langchain_core.prompts import ChatPromptTemplate\n",
    "from langchain.output_parsers import PydanticOutputParser\n",
    "\n",
    "from pydantic import BaseModel, Field\n",
    "from typing import List\n",
    "from pprint import pprint\n",
    "\n",
    "# 출력 구조를 정의하는 Pydantic 모델\n",
    "class MovieRecommendation(BaseModel):\n",
    "    movie_title: str = Field(description=\"추천 영화 제목\")\n",
    "    reason: str = Field(description=\"추천 이유\")\n",
    "    genre: List[str] = Field(description=\"영화 장르\")\n",
    "    estimated_rating: float = Field(description=\"10점 만점에서 예상 평점\")\n",
    "\n",
    "parser = PydanticOutputParser(pydantic_object=MovieRecommendation)\n",
    "# pydantic_object는 파서가 어떤 Pydantic 모델을 기준으로 파싱할지 지정하는 속성\n",
    "\n",
    "# print(parser.get_format_instructions())\n",
    "\n",
    "template = \"\"\"\n",
    "    다음 사용자 요청에 따라 영화를 추천해주세요.\n",
    "    요청: {query}\n",
    "\n",
    "    {format_instructions}    \n",
    "\"\"\"\n",
    "\n",
    "prompt = ChatPromptTemplate.from_template(template)\n",
    "\n",
    "# 파서의 지시사항을 프롬프트에 주입\n",
    "#  모델에게 이 구조를 따르라고 지시하는 프롬프트용 문자열 생성\n",
    "prompt = prompt.partial(\n",
    "    format_instructions=parser.get_format_instructions()\n",
    ")\n",
    "\n",
    "# ChatOpenAI 모델 초기화\n",
    "#model = ChatOpenAI(temperature=0.7, model=\"gpt-3.5-turbo\")\n",
    "model = ChatOpenAI(\n",
    "    #api_key=OPENAI_API_KEY,\n",
    "    base_url=\"https://api.groq.com/openai/v1\",  # Groq API 엔드포인트\n",
    "    #model=\"meta-llama/llama-4-scout-17b-16e-instruct\",\n",
    "    model=\"moonshotai/kimi-k2-instruct-0905\",\n",
    "    temperature=0.7\n",
    ")\n",
    "\n",
    "# 체인 구성 및 실행\n",
    "query = \"1990년대 클래식한 느낌의 공포 영화 추천해줘\"\n",
    "chain = prompt | model | parser\n",
    "output = chain.invoke({\"query\": query})\n",
    "\n",
    "print(type(output))\n",
    "pprint(output)\n"
   ]
  },
  {
   "cell_type": "code",
   "execution_count": 9,
   "id": "42df57b7",
   "metadata": {},
   "outputs": [
    {
     "name": "stdout",
     "output_type": "stream",
     "text": [
      "추천 영화: Scream (1996)\n",
      "추천 이유: 1990년대 특유의 복고적이면서도 세련된 스타일을 유지한 채, 기발한 메타적 요소로 공포 장르의 전형을 재해석한 클래식\n",
      "장르: 공포, 스릴러, 메타호러\n",
      "예상 평점: 8.5/10\n"
     ]
    }
   ],
   "source": [
    "\n",
    "# 결과 출력\n",
    "print(f\"추천 영화: {output.movie_title}\")\n",
    "print(f\"추천 이유: {output.reason}\")\n",
    "print(f\"장르: {', '.join(output.genre)}\")\n",
    "print(f\"예상 평점: {output.estimated_rating}/10\")"
   ]
  }
 ],
 "metadata": {
  "kernelspec": {
   "display_name": "mylangchain-app-JHcERFOP-py3.13",
   "language": "python",
   "name": "python3"
  },
  "language_info": {
   "codemirror_mode": {
    "name": "ipython",
    "version": 3
   },
   "file_extension": ".py",
   "mimetype": "text/x-python",
   "name": "python",
   "nbconvert_exporter": "python",
   "pygments_lexer": "ipython3",
   "version": "3.13.5"
  }
 },
 "nbformat": 4,
 "nbformat_minor": 5
}
