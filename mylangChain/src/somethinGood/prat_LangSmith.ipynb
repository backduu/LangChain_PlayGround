{
 "cells": [
  {
   "cell_type": "markdown",
   "id": "f07fa81a",
   "metadata": {},
   "source": [
    "##### 1) 라이브러리 설치"
   ]
  },
  {
   "cell_type": "code",
   "execution_count": 1,
   "id": "32e11ec1",
   "metadata": {},
   "outputs": [],
   "source": [
    "# poetry add langsmith"
   ]
  },
  {
   "cell_type": "code",
   "execution_count": 2,
   "id": "4677d391",
   "metadata": {},
   "outputs": [
    {
     "name": "stdout",
     "output_type": "stream",
     "text": [
      "gsk_y\n"
     ]
    }
   ],
   "source": [
    "import os\n",
    "from dotenv import load_dotenv\n",
    "# .env 파일을 불러와서 환경 변수로 설정\n",
    "load_dotenv()\n",
    "\n",
    "OPENAI_API_KEY = os.getenv(\"OPENAI_API_KEY\")\n",
    "print(OPENAI_API_KEY[:5])"
   ]
  },
  {
   "cell_type": "code",
   "execution_count": 7,
   "id": "d0c7ac66",
   "metadata": {},
   "outputs": [
    {
     "ename": "TypeError",
     "evalue": "str expected, not NoneType",
     "output_type": "error",
     "traceback": [
      "\u001b[31m---------------------------------------------------------------------------\u001b[39m",
      "\u001b[31mTypeError\u001b[39m                                 Traceback (most recent call last)",
      "\u001b[36mCell\u001b[39m\u001b[36m \u001b[39m\u001b[32mIn[7]\u001b[39m\u001b[32m, line 18\u001b[39m\n\u001b[32m     15\u001b[39m \u001b[38;5;66;03m# LangSmith API Key 설정\u001b[39;00m\n\u001b[32m     16\u001b[39m \u001b[38;5;66;03m# getenv의 두 번째 인자로 기본값을 설정하여, 환경 변수가 없을 때 오류를 방지할 수 있습니다.\u001b[39;00m\n\u001b[32m     17\u001b[39m os.environ[\u001b[33m\"\u001b[39m\u001b[33mLANGSMITH_TRACING\u001b[39m\u001b[33m\"\u001b[39m] = os.getenv(\u001b[33m\"\u001b[39m\u001b[33mLANGSMITH_TRACING\u001b[39m\u001b[33m\"\u001b[39m, \u001b[33m\"\u001b[39m\u001b[33mtrue\u001b[39m\u001b[33m\"\u001b[39m)  \u001b[38;5;66;03m# LangSmith 활성화 (기본값 \"true\")\u001b[39;00m\n\u001b[32m---> \u001b[39m\u001b[32m18\u001b[39m \u001b[43mos\u001b[49m\u001b[43m.\u001b[49m\u001b[43menviron\u001b[49m\u001b[43m[\u001b[49m\u001b[33;43m\"\u001b[39;49m\u001b[33;43mLANGSMITH_API_KEY\u001b[39;49m\u001b[33;43m\"\u001b[39;49m\u001b[43m]\u001b[49m = os.getenv(\u001b[33m\"\u001b[39m\u001b[33mLANGSMITH_API_KEY\u001b[39m\u001b[33m\"\u001b[39m)      \u001b[38;5;66;03m# API Key 불러오기\u001b[39;00m\n\u001b[32m     19\u001b[39m os.environ[\u001b[33m\"\u001b[39m\u001b[33mLANGSMITH_PROJECT\u001b[39m\u001b[33m\"\u001b[39m] = os.getenv(\u001b[33m\"\u001b[39m\u001b[33mLANGSMITH_PROJECT\u001b[39m\u001b[33m\"\u001b[39m)      \u001b[38;5;66;03m# 프로젝트 이름 설정\u001b[39;00m\n\u001b[32m     20\u001b[39m os.environ[\u001b[33m\"\u001b[39m\u001b[33mLANGSMITH_ENDPOINT\u001b[39m\u001b[33m\"\u001b[39m] = os.getenv(\u001b[33m\"\u001b[39m\u001b[33mLANGSMITH_ENDPOINT\u001b[39m\u001b[33m\"\u001b[39m)      \u001b[38;5;66;03m# EndPoint 설정\u001b[39;00m\n",
      "\u001b[36mFile \u001b[39m\u001b[32m<frozen os>:722\u001b[39m, in \u001b[36m__setitem__\u001b[39m\u001b[34m(self, key, value)\u001b[39m\n",
      "\u001b[36mFile \u001b[39m\u001b[32m<frozen os>:782\u001b[39m, in \u001b[36mcheck_str\u001b[39m\u001b[34m(value)\u001b[39m\n",
      "\u001b[31mTypeError\u001b[39m: str expected, not NoneType"
     ]
    }
   ],
   "source": [
    "import os\n",
    "from dotenv import load_dotenv\n",
    "from langchain_openai import ChatOpenAI\n",
    "from langchain_core.prompts import (\n",
    "    ChatPromptTemplate,\n",
    "    SystemMessagePromptTemplate,\n",
    "    HumanMessagePromptTemplate,\n",
    ")\n",
    "from langsmith import traceable\n",
    "\n",
    "# .env 파일에서 환경 변수를 로드합니다.\n",
    "# 이 코드는 다른 os.getenv 호출보다 먼저 실행되어야 합니다.\n",
    "load_dotenv()\n",
    "\n",
    "# LangSmith API Key 설정\n",
    "# getenv의 두 번째 인자로 기본값을 설정하여, 환경 변수가 없을 때 오류를 방지할 수 있습니다.\n",
    "os.environ[\"LANGSMITH_TRACING\"] = os.getenv(\"LANGSMITH_TRACING\", \"true\")  # LangSmith 활성화 (기본값 \"true\")\n",
    "os.environ[\"LANGSMITH_API_KEY\"] = os.getenv(\"LANGSMITH_API_KEY\")      # API Key 불러오기\n",
    "os.environ[\"LANGSMITH_PROJECT\"] = os.getenv(\"LANGSMITH_PROJECT\")      # 프로젝트 이름 설정\n",
    "os.environ[\"LANGSMITH_ENDPOINT\"] = os.getenv(\"LANGSMITH_ENDPOINT\")      # EndPoint 설정\n",
    "\n",
    "# LLM 모델 설정 (Groq 사용)\n",
    "llm = ChatOpenAI(\n",
    "    base_url=\"https://api.groq.com/openai/v1\",       # Groq API 엔드포인트\n",
    "    api_key=os.getenv(\"OPENAI_API_KEY\"),              # Groq API 키도 환경 변수에서 로드\n",
    "    model=\"llama3-70b-8192\",                        # Groq에서 지원하는 모델명으로 수정\n",
    "    temperature=0.7\n",
    ")\n",
    "\n",
    "# LangSmith로 실행 추적\n",
    "@traceable(run_type=\"chain\", name=\"Simple_Chain\")\n",
    "def ask_question(question: str):\n",
    "    \"\"\"지정된 질문에 대해 AI 모델에게 답변을 요청하는 함수\"\"\"\n",
    "\n",
    "    # 개별 메시지 템플릿 정의\n",
    "    system_message = SystemMessagePromptTemplate.from_template(\n",
    "        \"당신은 유용한 AI 비서입니다. 한국어로 간결하고 명확하게 답변해주세요.\"\n",
    "    )\n",
    "    user_message = HumanMessagePromptTemplate.from_template(\n",
    "        \"{question}\"\n",
    "    )\n",
    "\n",
    "    # 채팅 프롬프트 템플릿 생성\n",
    "    chat_prompt = ChatPromptTemplate.from_messages([\n",
    "        system_message,\n",
    "        user_message,\n",
    "    ])\n",
    "    \n",
    "    # 프롬프트와 LLM을 연결하는 체인 생성\n",
    "    chain = chat_prompt | llm\n",
    "\n",
    "    # 체인 실행 및 결과 반환\n",
    "    response = chain.invoke({\"question\": question})\n",
    "\n",
    "    return response.content\n",
    "\n",
    "# 테스트 실행\n",
    "question = \"LangGraph와 LangChain의 가장 큰 차이점은 무엇인가요?\"\n",
    "answer = ask_question(question)\n",
    "\n",
    "# 결과 출력\n",
    "print(\"\\n🔹 [AI 답변]:\")\n",
    "print(answer)"
   ]
  }
 ],
 "metadata": {
  "kernelspec": {
   "display_name": "mylangchain-app-JHcERFOP-py3.13",
   "language": "python",
   "name": "python3"
  },
  "language_info": {
   "codemirror_mode": {
    "name": "ipython",
    "version": 3
   },
   "file_extension": ".py",
   "mimetype": "text/x-python",
   "name": "python",
   "nbconvert_exporter": "python",
   "pygments_lexer": "ipython3",
   "version": "3.13.5"
  }
 },
 "nbformat": 4,
 "nbformat_minor": 5
}
